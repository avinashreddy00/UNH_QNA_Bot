{
  "nbformat": 4,
  "nbformat_minor": 0,
  "metadata": {
    "colab": {
      "provenance": []
    },
    "kernelspec": {
      "name": "python3",
      "display_name": "Python 3"
    },
    "language_info": {
      "name": "python"
    }
  },
  "cells": [
    {
      "cell_type": "code",
      "source": [
        "import requests\n",
        "from bs4 import BeautifulSoup\n",
        "import pandas as pd"
      ],
      "metadata": {
        "id": "bWrgd9rYmkuX"
      },
      "execution_count": null,
      "outputs": []
    },
    {
      "cell_type": "code",
      "source": [
        "# Sample list of URLs to scrape\n",
        "urls = ['https://www.newhaven.edu/student-life/get-involved/faq.php',\n",
        "       'https://www.newhaven.edu/student-life/career-development-center/faq.php',\n",
        "       'https://www.newhaven.edu/student-life/diversity-inclusion/faq.php',\n",
        "       'https://www.newhaven.edu/about/departments/one-stop/faq.php',\n",
        "       'https://www.newhaven.edu/families/faq.php',\n",
        "       'https://www.newhaven.edu/student-life/student-affairs/faq.php',\n",
        "       'https://www.newhaven.edu/academics/study-abroad/faq.php',\n",
        "       'https://www.newhaven.edu/admissions/undergraduate/international/faq/index.php',\n",
        "       'https://www.newhaven.edu/about/facts-figures.php',\n",
        "       'https://www.newhaven.edu/about/departments/bursars/faq.php',\n",
        "       'https://www.newhaven.edu/admissions/financial-aid/graduate/faq.php',\n",
        "       'https://www.newhaven.edu/student-life/graduate-and-international/faq.php'\n",
        "]"
      ],
      "metadata": {
        "id": "vayM0eSgmpl1"
      },
      "execution_count": null,
      "outputs": []
    },
    {
      "cell_type": "code",
      "source": [
        "def scrape_qa_from_website(url):\n",
        "    response = requests.get(url)\n",
        "    if response.status_code == 200:\n",
        "        soup = BeautifulSoup(response.content, 'html.parser')\n",
        "        questions = soup.find_all('span', class_=\"accordion-link-title\")\n",
        "        answers = soup.find_all('div', class_='panel')\n",
        "\n",
        "        # Ensure questions and answers are paired correctly even if lengths differ\n",
        "        min_length = min(len(questions), len(answers))\n",
        "        extracted_questions = [question.text.strip() for question in questions[:min_length]]\n",
        "        extracted_answers = [answer.text.strip() for answer in answers[:min_length]]\n",
        "\n",
        "        # Handle missing data by adding placeholders for shorter lists\n",
        "        diff_length = abs(len(questions) - len(answers))\n",
        "        if len(questions) > len(answers):\n",
        "            extracted_answers.extend(['Missing Answer'] * diff_length)\n",
        "        elif len(answers) > len(questions):\n",
        "            extracted_questions.extend(['Missing Question'] * diff_length)\n",
        "\n",
        "        return extracted_questions, extracted_answers\n",
        "    else:\n",
        "        print(f\"Failed to fetch content from {url}\")\n",
        "        return [], []\n"
      ],
      "metadata": {
        "id": "t8sbozGUpcCt"
      },
      "execution_count": null,
      "outputs": []
    },
    {
      "cell_type": "code",
      "source": [
        "# Scraping data from multiple websites\n",
        "all_questions = []\n",
        "all_answers = []\n",
        "\n",
        "for url in urls:\n",
        "    questions, answers = scrape_qa_from_website(url)\n",
        "    all_questions.extend(questions)\n",
        "    all_answers.extend(answers)\n",
        "\n",
        "# Creating a DataFrame using pandas\n",
        "data = {\n",
        "    'Questions': all_questions,\n",
        "    'Answers': all_answers\n",
        "}\n",
        "\n",
        "df = pd.DataFrame(data)\n",
        "\n",
        "# Displaying the DataFrame\n",
        "print(df)\n",
        "# df.to_csv('questions_answers.csv', index=False)  # Uncomment to save the data to a CSV file\n"
      ],
      "metadata": {
        "colab": {
          "base_uri": "https://localhost:8080/"
        },
        "id": "IiFEa18irXtQ",
        "outputId": "14971add-7569-4379-f790-6b45d09c35a7"
      },
      "execution_count": null,
      "outputs": [
        {
          "output_type": "stream",
          "name": "stdout",
          "text": [
            "                                             Questions  \\\n",
            "0    Is there a list of Recognized Student Organiza...   \n",
            "1            How can my commuter student get involved?   \n",
            "2    Where can my commuter student go in between cl...   \n",
            "3    What leadership opportunities are available fo...   \n",
            "4    How does my student apply for leadership posit...   \n",
            "..                                                 ...   \n",
            "145  Does the University provide bus passes to use ...   \n",
            "146  Are students required to live on campus? If no...   \n",
            "147  I recently moved. Do I need to report my chang...   \n",
            "148  How can I connect with other students once I a...   \n",
            "149         Is the University of New Haven accredited?   \n",
            "\n",
            "                                               Answers  \n",
            "0    The Center for Student Engagement, Leadership ...  \n",
            "1    All programs, events, and Recognized Student O...  \n",
            "2    There are multiple locations on campus that of...  \n",
            "3    Take Charge is the University of New Haven’s l...  \n",
            "4    Applications for various leadership positions ...  \n",
            "..                                                 ...  \n",
            "145  The CT Transit ChargerGo Bus Pass Program prov...  \n",
            "146  Both domestic and international graduate stude...  \n",
            "147  Yes, students need to report changes of addres...  \n",
            "148  The University of New Haven offers numerous so...  \n",
            "149  The University is accredited by the New Englan...  \n",
            "\n",
            "[150 rows x 2 columns]\n"
          ]
        }
      ]
    },
    {
      "cell_type": "code",
      "source": [
        "# df.to_csv('questions_answers.csv', index=False)  # Uncomment to save the data to a CSV file"
      ],
      "metadata": {
        "id": "KoOLHjOa1Nkz"
      },
      "execution_count": null,
      "outputs": []
    },
    {
      "cell_type": "code",
      "source": [],
      "metadata": {
        "id": "K6sx90NBTnwD"
      },
      "execution_count": null,
      "outputs": []
    }
  ]
}